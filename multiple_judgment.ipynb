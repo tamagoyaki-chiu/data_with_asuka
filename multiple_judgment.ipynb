{
  "nbformat": 4,
  "nbformat_minor": 0,
  "metadata": {
    "colab": {
      "name": " multiple judgment.ipynb",
      "provenance": [],
      "authorship_tag": "ABX9TyNIrqnNBV4iRjWLp/KtQZWv",
      "include_colab_link": true
    },
    "kernelspec": {
      "name": "python3",
      "display_name": "Python 3"
    }
  },
  "cells": [
    {
      "cell_type": "markdown",
      "metadata": {
        "id": "view-in-github",
        "colab_type": "text"
      },
      "source": [
        "<a href=\"https://colab.research.google.com/github/tamagoyaki-chiu/python_practice/blob/master/multiple_judgment.ipynb\" target=\"_parent\"><img src=\"https://colab.research.google.com/assets/colab-badge.svg\" alt=\"Open In Colab\"/></a>"
      ]
    },
    {
      "cell_type": "code",
      "metadata": {
        "id": "Y6-x9I_kElFq",
        "outputId": "5ffb940d-9de7-40f1-c90d-f8a195903e5b",
        "colab": {
          "base_uri": "https://localhost:8080/",
          "height": 54
        }
      },
      "source": [
        "s = eval(input())\n",
        "if (s%3==0 and s%5==0):\n",
        "  print(s,\"is a multiple of 3 and 5.\")\n",
        "elif (s%3==0 and s%5!=0):\n",
        "  print(s,\"is a multiple of 3.\")\n",
        "elif (s%3!=0 and s%5==0):\n",
        "  print(s,\"is a multiple of 5.\")\n",
        "else:\n",
        "  print(s,\"is not a multiple of 3 or 5.\")"
      ],
      "execution_count": 9,
      "outputs": [
        {
          "output_type": "stream",
          "text": [
            "54\n",
            "54 is a multiple of 3.\n"
          ],
          "name": "stdout"
        }
      ]
    }
  ]
}